{
 "cells": [
  {
   "cell_type": "code",
   "execution_count": 31,
   "metadata": {},
   "outputs": [
    {
     "name": "stdout",
     "output_type": "stream",
     "text": [
      "*****\n",
      "\n",
      "****\n",
      "\n",
      "***\n",
      "\n",
      "**\n",
      "\n",
      "*\n",
      "\n"
     ]
    }
   ],
   "source": [
    "for rows in range(0,5):\n",
    "    for index in range(rows,5):\n",
    "        print(\"*\",end=\"\")\n",
    "    print(\"\\n\")"
   ]
  },
  {
   "cell_type": "code",
   "execution_count": 53,
   "metadata": {},
   "outputs": [
    {
     "name": "stdout",
     "output_type": "stream",
     "text": [
      "54321\n",
      "\n",
      "5432\n",
      "\n",
      "543\n",
      "\n",
      "54\n",
      "\n",
      "5\n",
      "\n"
     ]
    }
   ],
   "source": [
    "for rows in range(0,5):\n",
    "    for i in range(5,rows,-1):\n",
    "        print(i,end=\"\")\n",
    "    print(\"\\n\")"
   ]
  },
  {
   "cell_type": "code",
   "execution_count": 56,
   "metadata": {},
   "outputs": [
    {
     "name": "stdout",
     "output_type": "stream",
     "text": [
      "11111\n",
      "\n",
      "2222\n",
      "\n",
      "333\n",
      "\n",
      "44\n",
      "\n",
      "5\n",
      "\n"
     ]
    }
   ],
   "source": [
    "for rows in range(1,6):\n",
    "    for index in range(rows,6):\n",
    "        print(rows,end=\"\")\n",
    "    print(\"\\n\")"
   ]
  },
  {
   "cell_type": "code",
   "execution_count": 63,
   "metadata": {},
   "outputs": [
    {
     "name": "stdout",
     "output_type": "stream",
     "text": [
      "     *\n",
      "\n",
      "    **\n",
      "\n",
      "   ***\n",
      "\n",
      "  ****\n",
      "\n",
      " *****\n",
      "\n"
     ]
    }
   ],
   "source": [
    "for  rows in range(0,5):\n",
    "    for spaces in range(rows,5): #bcz number of spaces changing need to comare with rows\n",
    "        print(\" \",end=\"\") \n",
    "        \n",
    "    for star in range(0,rows+1):  #bcz star numbers are changing need to compare with rows\n",
    "        print(\"*\",end=\"\")\n",
    "    print(\"\\n\")"
   ]
  },
  {
   "cell_type": "code",
   "execution_count": 65,
   "metadata": {},
   "outputs": [
    {
     "name": "stdout",
     "output_type": "stream",
     "text": [
      " *****\n",
      "\n",
      "  ****\n",
      "\n",
      "   ***\n",
      "\n",
      "    **\n",
      "\n",
      "     *\n",
      "\n"
     ]
    }
   ],
   "source": [
    "for rows in range(1,6):\n",
    "    for space in range(0,rows):\n",
    "        print(\" \",end=\"\")\n",
    "        \n",
    "    for stars in range(rows,6):\n",
    "        print(\"*\",end=\"\")\n",
    "    print(\"\\n\")"
   ]
  }
 ],
 "metadata": {
  "kernelspec": {
   "display_name": "Python 3",
   "language": "python",
   "name": "python3"
  },
  "language_info": {
   "codemirror_mode": {
    "name": "ipython",
    "version": 3
   },
   "file_extension": ".py",
   "mimetype": "text/x-python",
   "name": "python",
   "nbconvert_exporter": "python",
   "pygments_lexer": "ipython3",
   "version": "3.6.9"
  }
 },
 "nbformat": 4,
 "nbformat_minor": 2
}
