{
 "cells": [
  {
   "cell_type": "code",
   "execution_count": 2,
   "metadata": {},
   "outputs": [
    {
     "name": "stdout",
     "output_type": "stream",
     "text": [
      "2018-05-13 05:15:00\n"
     ]
    }
   ],
   "source": [
    "from datetime import *\n",
    "d = date(2018,5,13)\n",
    "t = time(5,15)\n",
    "dt = datetime.combine(d,t)\n",
    "print(dt)"
   ]
  },
  {
   "cell_type": "code",
   "execution_count": 3,
   "metadata": {},
   "outputs": [
    {
     "name": "stdout",
     "output_type": "stream",
     "text": [
      "1999-04-26 05:15:00\n"
     ]
    }
   ],
   "source": [
    "from datetime import *\n",
    "d = date(1999,4,26)\n",
    "t = time(5,15)\n",
    "dt = datetime.combine(d,t)\n",
    "print(dt)"
   ]
  },
  {
   "cell_type": "code",
   "execution_count": 4,
   "metadata": {},
   "outputs": [
    {
     "name": "stdout",
     "output_type": "stream",
     "text": [
      "1998-11-24 12:01:00\n"
     ]
    }
   ],
   "source": [
    "from datetime import *\n",
    "d = date(1998,11,24)\n",
    "t = time(12,1)\n",
    "dt = datetime.combine(d,t)\n",
    "print(dt)"
   ]
  },
  {
   "cell_type": "code",
   "execution_count": null,
   "metadata": {},
   "outputs": [],
   "source": []
  }
 ],
 "metadata": {
  "kernelspec": {
   "display_name": "Python 3",
   "language": "python",
   "name": "python3"
  },
  "language_info": {
   "codemirror_mode": {
    "name": "ipython",
    "version": 3
   },
   "file_extension": ".py",
   "mimetype": "text/x-python",
   "name": "python",
   "nbconvert_exporter": "python",
   "pygments_lexer": "ipython3",
   "version": "3.7.4"
  }
 },
 "nbformat": 4,
 "nbformat_minor": 2
}
