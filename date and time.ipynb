{
 "cells": [
  {
   "cell_type": "code",
   "execution_count": 6,
   "metadata": {},
   "outputs": [
    {
     "name": "stdout",
     "output_type": "stream",
     "text": [
      "1580315823.463475\n",
      "Wed Jan 29 22:07:03 2020\n"
     ]
    }
   ],
   "source": [
    "import time          #time package\n",
    "epochseconds = time.time()\n",
    "print(epochseconds)\n",
    "\n",
    "t = time.ctime(epochseconds)\n",
    "print(t)"
   ]
  },
  {
   "cell_type": "code",
   "execution_count": 8,
   "metadata": {},
   "outputs": [
    {
     "name": "stdout",
     "output_type": "stream",
     "text": [
      "1580316797.5956402\n",
      "Wed Jan 29 22:23:17 2020\n"
     ]
    }
   ],
   "source": [
    "import time          #time package\n",
    "epochseconds = time.time()\n",
    "print(epochseconds)\n",
    "\n",
    "t = time.ctime(epochseconds)\n",
    "print(t)"
   ]
  },
  {
   "cell_type": "code",
   "execution_count": null,
   "metadata": {},
   "outputs": [],
   "source": []
  },
  {
   "cell_type": "code",
   "execution_count": null,
   "metadata": {},
   "outputs": [],
   "source": []
  }
 ],
 "metadata": {
  "kernelspec": {
   "display_name": "Python 3",
   "language": "python",
   "name": "python3"
  },
  "language_info": {
   "codemirror_mode": {
    "name": "ipython",
    "version": 3
   },
   "file_extension": ".py",
   "mimetype": "text/x-python",
   "name": "python",
   "nbconvert_exporter": "python",
   "pygments_lexer": "ipython3",
   "version": "3.7.4"
  }
 },
 "nbformat": 4,
 "nbformat_minor": 2
}
