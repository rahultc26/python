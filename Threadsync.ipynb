{
 "cells": [
  {
   "cell_type": "code",
   "execution_count": 4,
   "metadata": {},
   "outputs": [
    {
     "name": "stdout",
     "output_type": "stream",
     "text": [
      "Booking ticket\n",
      "Making payment\n",
      "Downloading ticket\n",
      "Booking ticket\n",
      "Making payment\n",
      "Downloading ticket\n",
      "Booking ticket\n",
      "Making payment\n",
      "Downloading ticket\n"
     ]
    }
   ],
   "source": [
    "from threading import Thread\n",
    "\n",
    "class bus:\n",
    "    def buy(self):\n",
    "        print(\"Booking ticket\")\n",
    "        print(\"Making payment\")\n",
    "        print(\"Downloading ticket\")\n",
    "        \n",
    "obj = bus()\n",
    "t = Thread(target = obj.buy())\n",
    "t2 = Thread(target = obj.buy())\n",
    "t3 = Thread(target = obj.buy())"
   ]
  },
  {
   "cell_type": "code",
   "execution_count": 29,
   "metadata": {},
   "outputs": [
    {
     "name": "stdout",
     "output_type": "stream",
     "text": [
      "Total available seats are: 10\n",
      "Booking ticket\n",
      "Making payment\n",
      "Downloading ticket\n",
      "Total available seats are: 7\n",
      "Booking ticket\n",
      "Making payment\n",
      "Downloading ticket\n",
      "Total available seats are: 3\n",
      "Sorry no seats left\n"
     ]
    }
   ],
   "source": [
    "#Syncronization \n",
    "from threading import Thread\n",
    "\n",
    "class bus:\n",
    "    def __init__(self,availseats):\n",
    "        self.availseats = availseats\n",
    "    \n",
    "    def buy(self,reqseats):\n",
    "        print(\"Total available seats are:\",self.availseats)\n",
    "        if self.availseats>=reqseats:  \n",
    "            print(\"Booking ticket\")\n",
    "            print(\"Making payment\")\n",
    "            print(\"Downloading ticket\")\n",
    "            self.availseats-=reqseats\n",
    "        else:\n",
    "            print(\"Sorry no seats left\")\n",
    "        \n",
    "obj = bus(10)\n",
    "t = Thread(target = obj.buy,args=(3,))\n",
    "t2 = Thread(target = obj.buy,args=(4,))\n",
    "t3 = Thread(target = obj.buy,args=(4,))\n",
    "\n",
    "t.start()\n",
    "t2.start()\n",
    "t3.start()"
   ]
  }
 ],
 "metadata": {
  "kernelspec": {
   "display_name": "Python 3",
   "language": "python",
   "name": "python3"
  },
  "language_info": {
   "codemirror_mode": {
    "name": "ipython",
    "version": 3
   },
   "file_extension": ".py",
   "mimetype": "text/x-python",
   "name": "python",
   "nbconvert_exporter": "python",
   "pygments_lexer": "ipython3",
   "version": "3.7.4"
  }
 },
 "nbformat": 4,
 "nbformat_minor": 2
}
