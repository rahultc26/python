{
 "cells": [
  {
   "cell_type": "code",
   "execution_count": 15,
   "metadata": {
    "scrolled": true
   },
   "outputs": [
    {
     "name": "stdout",
     "output_type": "stream",
     "text": [
      "* * * * * * * * * * * * * * * * * * * * * * * * * "
     ]
    }
   ],
   "source": [
    "for _ in range(0,5): #number of rows\n",
    "    for index in range(0,5): #number of stars\n",
    "        print(\"*\",end=\" \")"
   ]
  },
  {
   "cell_type": "code",
   "execution_count": 61,
   "metadata": {},
   "outputs": [
    {
     "name": "stdout",
     "output_type": "stream",
     "text": [
      "*****\n",
      "\n",
      "*****\n",
      "\n",
      "*****\n",
      "\n",
      "*****\n",
      "\n",
      "*****\n",
      "\n"
     ]
    }
   ],
   "source": [
    "for _ in range(0,5):   #number of rows\n",
    "    for index in range(0,5): #number of times star printed\n",
    "        print(\"*\",end=\"\")\n",
    "    print(\"\\n\") #for next line "
   ]
  },
  {
   "cell_type": "code",
   "execution_count": 66,
   "metadata": {},
   "outputs": [
    {
     "name": "stdout",
     "output_type": "stream",
     "text": [
      "* * * \n",
      "\n",
      "* * * \n",
      "\n",
      "* * * \n",
      "\n",
      "* * * \n",
      "\n",
      "* * * \n",
      "\n"
     ]
    }
   ],
   "source": [
    "for _ in range(0,5):   #number of rows\n",
    "    for index in range(0,3): #number of times star printed\n",
    "        print(\"*\",end=\" \")\n",
    "    print(\"\\n\") #for next line "
   ]
  },
  {
   "cell_type": "code",
   "execution_count": 122,
   "metadata": {},
   "outputs": [
    {
     "name": "stdout",
     "output_type": "stream",
     "text": [
      "*****\n",
      "\n",
      " *****\n",
      "\n",
      "  *****\n",
      "\n",
      "   *****\n",
      "\n",
      "    *****\n",
      "\n"
     ]
    }
   ],
   "source": [
    "for k in range(0,5):  # number of rows \n",
    "    for i in range(0,k):  #bcz spaces are decreasing take row range\n",
    "            print(\" \",end=\"\")\n",
    "        \n",
    "    for j in range(0,5):  #number of stars\n",
    "        print(\"*\",end=\"\")\n",
    "        \n",
    "    print(\"\\n\")\n",
    "        "
   ]
  },
  {
   "cell_type": "code",
   "execution_count": 135,
   "metadata": {},
   "outputs": [
    {
     "name": "stdout",
     "output_type": "stream",
     "text": [
      "*\n",
      "\n",
      "**\n",
      "\n",
      "***\n",
      "\n",
      "****\n",
      "\n",
      "*****\n",
      "\n"
     ]
    }
   ],
   "source": [
    "for k in range(0,5):  #number rows in given pattern\n",
    "    for index in range(0,k+1): #number of stars in one row\n",
    "        print(\"*\",end=\"\")\n",
    "    print(\"\\n\")    #for every after row goes next line"
   ]
  },
  {
   "cell_type": "code",
   "execution_count": 145,
   "metadata": {},
   "outputs": [
    {
     "name": "stdout",
     "output_type": "stream",
     "text": [
      "1\n",
      "\n",
      "22\n",
      "\n",
      "333\n",
      "\n",
      "4444\n",
      "\n",
      "55555\n",
      "\n"
     ]
    }
   ],
   "source": [
    "for k in range(1,6):  #number of rows\n",
    "    for index in range(1,k+1): #index values in one row\n",
    "        print(k,end=\"\")\n",
    "    print(\"\\n\")"
   ]
  }
 ],
 "metadata": {
  "kernelspec": {
   "display_name": "Python 3",
   "language": "python",
   "name": "python3"
  },
  "language_info": {
   "codemirror_mode": {
    "name": "ipython",
    "version": 3
   },
   "file_extension": ".py",
   "mimetype": "text/x-python",
   "name": "python",
   "nbconvert_exporter": "python",
   "pygments_lexer": "ipython3",
   "version": "3.6.9"
  }
 },
 "nbformat": 4,
 "nbformat_minor": 2
}
