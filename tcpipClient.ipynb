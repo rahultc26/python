{
 "cells": [
  {
   "cell_type": "code",
   "execution_count": null,
   "metadata": {},
   "outputs": [],
   "source": [
    "import socket \n",
    "\n",
    "s = socket.socket()\n",
    "\n",
    "s.connect((\"localhost\",4000))\n",
    "\n",
    "msg = s.recv(1024)\n",
    "\n",
    "while msg:\n",
    "    print(\"Received :\",msg.decode())\n",
    "    msg = s.recv(1024)"
   ]
  }
 ],
 "metadata": {
  "kernelspec": {
   "display_name": "Python 3",
   "language": "python",
   "name": "python3"
  }
 },
 "nbformat": 4,
 "nbformat_minor": 2
}
