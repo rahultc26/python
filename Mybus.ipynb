{
 "cells": [
  {
   "cell_type": "code",
   "execution_count": 8,
   "metadata": {},
   "outputs": [
    {
     "name": "stdout",
     "output_type": "stream",
     "text": [
      "Confirming the seat\n",
      "Processing the payment\n",
      "Printing the Ticket\n",
      "Confirming the seat\n",
      "Processing the payment\n",
      "Printing the Ticket\n",
      "Confirming the seat\n",
      "Processing the payment\n",
      "Printing the Ticket\n"
     ]
    }
   ],
   "source": [
    "from threading import *\n",
    "\n",
    "class bookbus:\n",
    "    def buy(self):\n",
    "        print(\"Confirming the seat\")\n",
    "        print(\"Processing the payment\")\n",
    "        print(\"Printing the Ticket\")\n",
    "        \n",
    "obj = bookbus()\n",
    "t = Thread(target = obj.buy())\n",
    "t1 = Thread(target = obj.buy())\n",
    "t1 = Thread(target = obj.buy())"
   ]
  },
  {
   "cell_type": "code",
   "execution_count": null,
   "metadata": {},
   "outputs": [],
   "source": []
  }
 ],
 "metadata": {
  "kernelspec": {
   "display_name": "Python 3",
   "language": "python",
   "name": "python3"
  },
  "language_info": {
   "codemirror_mode": {
    "name": "ipython",
    "version": 3
   },
   "file_extension": ".py",
   "mimetype": "text/x-python",
   "name": "python",
   "nbconvert_exporter": "python",
   "pygments_lexer": "ipython3",
   "version": "3.7.4"
  }
 },
 "nbformat": 4,
 "nbformat_minor": 2
}
