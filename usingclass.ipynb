{
 "cells": [
  {
   "cell_type": "code",
   "execution_count": 1,
   "metadata": {},
   "outputs": [
    {
     "name": "stdout",
     "output_type": "stream",
     "text": [
      "current thread is: Thread-6\n",
      "0\n",
      "1\n",
      "2\n",
      "3\n",
      "4\n",
      "5\n",
      "6\n"
     ]
    }
   ],
   "source": [
    "#Thread using a class (without inherit)\n",
    "from threading import *\n",
    "\n",
    "class Mythread:\n",
    "    def display(self):\n",
    "        i=0\n",
    "        print(\"current thread is:\",current_thread().getName())\n",
    "        while(i<7):\n",
    "            print(i)\n",
    "            i+=1\n",
    "            \n",
    "obj = Mythread()\n",
    "t = Thread(target = obj.display)\n",
    "t.start()    "
   ]
  }
 ],
 "metadata": {
  "kernelspec": {
   "display_name": "Python 3",
   "language": "python",
   "name": "python3"
  },
  "language_info": {
   "codemirror_mode": {
    "name": "ipython",
    "version": 3
   },
   "file_extension": ".py",
   "mimetype": "text/x-python",
   "name": "python",
   "nbconvert_exporter": "python",
   "pygments_lexer": "ipython3",
   "version": "3.7.4"
  }
 },
 "nbformat": 4,
 "nbformat_minor": 2
}
