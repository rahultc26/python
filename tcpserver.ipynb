{
 "cells": [
  {
   "cell_type": "code",
   "execution_count": null,
   "metadata": {},
   "outputs": [],
   "source": [
    "import socket \n",
    "\n",
    "host= 'localhost'\n",
    "port = 4000\n",
    "\n",
    "s = socket.socket(socket.AF_INET,socket.SOCK_STREAM)\n",
    "\n",
    "s.bind((host,port))\n",
    "\n",
    "s.listen(1)\n",
    "print(\"server listening on port:\",port)\n",
    "c,addr = s.accept()\n",
    "\n",
    "print(\"Connection from:\",str(addr))\n",
    "\n",
    "c.send(b\"Hell, how r u\")\n",
    "c.send(\"bye\",encode())\n",
    "c.close()"
   ]
  }
 ],
 "metadata": {
  "kernelspec": {
   "display_name": "Python 3",
   "language": "python",
   "name": "python3"
  },
  "language_info": {
   "codemirror_mode": {
    "name": "ipython",
    "version": 3
   },
   "file_extension": ".py",
   "mimetype": "text/x-python",
   "name": "python",
   "nbconvert_exporter": "python",
   "pygments_lexer": "ipython3",
   "version": "3.7.4"
  }
 },
 "nbformat": 4,
 "nbformat_minor": 2
}
