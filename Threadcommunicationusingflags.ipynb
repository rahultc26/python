{
 "cells": [
  {
   "cell_type": "code",
   "execution_count": 13,
   "metadata": {},
   "outputs": [
    {
     "name": "stdout",
     "output_type": "stream",
     "text": [
      "Waiting for the products\n",
      "Waiting for the products\n",
      "Waiting for the products\n",
      "Waiting for the products\n",
      "Item Added\n",
      "Waiting for the products\n",
      "Waiting for the products\n",
      "Waiting for the products\n",
      "Item Added\n",
      "Waiting for the products\n",
      "Waiting for the products\n",
      "Waiting for the products\n",
      "Item Added\n",
      "Waiting for the products\n",
      "Waiting for the products\n",
      "Waiting for the products\n",
      "Waiting for the products\n",
      "Item Added\n",
      "orders placed ['Products:1', 'Products:2', 'Products:3', 'Products:4']\n"
     ]
    }
   ],
   "source": [
    "from threading import *\n",
    "from time import *\n",
    "\n",
    "class Producer:\n",
    "    def __init__(self):\n",
    "        self.products = []\n",
    "        self.ordersplaced = False\n",
    "    \n",
    "    def produce(self):\n",
    "        for i in range(1,5):\n",
    "            self.products.append(\"Products:\"+str(i))\n",
    "            sleep(1)\n",
    "            print(\"Item Added\")\n",
    "        self.ordersplaced = True\n",
    "        \n",
    "class Consumer:\n",
    "    def __init__(self,prod):\n",
    "        self.prod = prod\n",
    "        \n",
    "    def Consume(self):\n",
    "        while self.prod.ordersplaced == False:\n",
    "            print(\"Waiting for the products\")\n",
    "            sleep(0.3)\n",
    "            \n",
    "        print(\"orders placed\",self.prod.products)\n",
    "        \n",
    "p = Producer()\n",
    "c = Consumer(p)\n",
    "\n",
    "t1 = Thread(target = p.produce)\n",
    "t2 = Thread(target = c.Consume)\n",
    "\n",
    "t1.start()\n",
    "t2.start()\n",
    "\n",
    "            \n",
    "        \n",
    "        \n",
    "    "
   ]
  }
 ],
 "metadata": {
  "kernelspec": {
   "display_name": "Python 3",
   "language": "python",
   "name": "python3"
  },
  "language_info": {
   "codemirror_mode": {
    "name": "ipython",
    "version": 3
   },
   "file_extension": ".py",
   "mimetype": "text/x-python",
   "name": "python",
   "nbconvert_exporter": "python",
   "pygments_lexer": "ipython3",
   "version": "3.7.4"
  }
 },
 "nbformat": 4,
 "nbformat_minor": 2
}
