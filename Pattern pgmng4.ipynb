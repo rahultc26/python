{
 "cells": [
  {
   "cell_type": "code",
   "execution_count": 17,
   "metadata": {},
   "outputs": [
    {
     "name": "stdout",
     "output_type": "stream",
     "text": [
      "* * * * * \n",
      "\n",
      "*       * \n",
      "\n",
      "*       * \n",
      "\n",
      "*       * \n",
      "\n",
      "* * * * * \n",
      "\n"
     ]
    }
   ],
   "source": [
    "for rows in range(1,6):\n",
    "    for stars in range(1,6):\n",
    "        if (rows==1 or rows == 5 or stars==1 or stars==5):\n",
    "            print(\"*\",end=\" \")\n",
    "        else:\n",
    "            print(\" \",end=\" \")\n",
    "    print(\"\\n\")"
   ]
  },
  {
   "cell_type": "code",
   "execution_count": 44,
   "metadata": {},
   "outputs": [
    {
     "name": "stdout",
     "output_type": "stream",
     "text": [
      "          * \n",
      "\n",
      "        * * * \n",
      "\n",
      "      * * * * * \n",
      "\n",
      "    * * * * * * * \n",
      "\n",
      "  * * * * * * * * * \n",
      "\n",
      "* * * * * * * * * * * \n",
      "\n",
      "* * * * * * * * * * * \n",
      "\n",
      "* * * * * * * * * * * \n",
      "\n",
      "* * * * * * * * * * * \n",
      "\n",
      "* * * * * * * * * * * \n",
      "\n",
      "* * * * * * * * * * * \n",
      "\n",
      "* * * * * * * * * * * \n",
      "\n"
     ]
    }
   ],
   "source": [
    "#home pattern (marge equilateral triangle and rectangle patterns to get home)\n",
    "for rows in range(1,6):\n",
    "    for spaces in range(rows,6):\n",
    "        print(\" \",end=\" \")\n",
    "    for stars in range(0,2*rows-1): #stars are changing in the format of 1,3,5,7,9 so 2*rows-1\n",
    "        print(\"*\",end=\" \")\n",
    "    print(\"\\n\")\n",
    "for _ in range(0,7):   #number of rows\n",
    "    for index in range(0,11): #number of times star printed\n",
    "        print(\"*\",end=\" \")\n",
    "    print(\"\\n\") #for next line "
   ]
  },
  {
   "cell_type": "code",
   "execution_count": 38,
   "metadata": {},
   "outputs": [
    {
     "name": "stdout",
     "output_type": "stream",
     "text": [
      " *********\n",
      "\n",
      "  *******\n",
      "\n",
      "   *****\n",
      "\n",
      "    ***\n",
      "\n",
      "     *\n",
      "\n",
      "     *\n",
      "\n",
      "    ***\n",
      "\n",
      "   *****\n",
      "\n",
      "  *******\n",
      "\n",
      " *********\n",
      "\n"
     ]
    }
   ],
   "source": [
    "#sand clock (merge inverted and normal equilateral triangle to get sand clock)\n",
    "\n",
    "for rows in range(1,6):\n",
    "    for spaces in range(0,rows):\n",
    "        print(\" \",end=\"\")\n",
    "        \n",
    "    for stars in range(10,2*rows-1,-1):\n",
    "        print(\"*\",end=\"\")\n",
    "    print(\"\\n\")\n",
    "for rows in range(1,6):\n",
    "    for spaces in range(rows,6):\n",
    "        print(\" \",end=\"\")\n",
    "    for stars in range(0,2*rows-1): #stars are changing in the format of 1,3,5,7,9 so 2*rows-1\n",
    "        print(\"*\",end=\"\")\n",
    "    print(\"\\n\")"
   ]
  },
  {
   "cell_type": "code",
   "execution_count": 31,
   "metadata": {},
   "outputs": [
    {
     "name": "stdout",
     "output_type": "stream",
     "text": [
      "*****\n",
      "\n",
      " *****\n",
      "\n",
      "  *****\n",
      "\n",
      "   *****\n",
      "\n",
      "    *****\n",
      "\n",
      "     *****\n",
      "\n",
      "    *****\n",
      "\n",
      "   *****\n",
      "\n",
      "  *****\n",
      "\n",
      " *****\n",
      "\n"
     ]
    }
   ],
   "source": [
    "#arrow pattern (merge parellelograms to get arrow)\n",
    "\n",
    "for k in range(0,5):  # number of rows \n",
    "    for i in range(0,k):  #bcz spaces are decreasing take row range\n",
    "            print(\" \",end=\"\")\n",
    "        \n",
    "    for j in range(0,5):  #number of stars\n",
    "        print(\"*\",end=\"\")\n",
    "        \n",
    "    print(\"\\n\")\n",
    "for k in range(0,5):  # number of rows \n",
    "    for i in range(k,5):  #bcz spaces are decreasing take row range\n",
    "            print(\" \",end=\"\")\n",
    "        \n",
    "    for j in range(0,5):  #number of stars\n",
    "        print(\"*\",end=\"\")\n",
    "        \n",
    "    print(\"\\n\")\n",
    "        \n",
    "        "
   ]
  },
  {
   "cell_type": "code",
   "execution_count": 45,
   "metadata": {},
   "outputs": [
    {
     "name": "stdout",
     "output_type": "stream",
     "text": [
      "*****\n",
      "\n",
      "****\n",
      "\n",
      "***\n",
      "\n",
      "**\n",
      "\n",
      "*\n",
      "\n",
      "*\n",
      "\n",
      "**\n",
      "\n",
      "***\n",
      "\n",
      "****\n",
      "\n",
      "*****\n",
      "\n"
     ]
    }
   ],
   "source": [
    "#K pattern (merge inverted and normal right angle triangle to get K pattern) \n",
    "for rows in range(0,5):\n",
    "    for index in range(rows,5):\n",
    "        print(\"*\",end=\"\")\n",
    "    print(\"\\n\")\n",
    "for k in range(1,6):  #number rows in given pattern\n",
    "    for index in range(0,k): #number of stars in one row\n",
    "        print(\"*\",end=\"\")\n",
    "    print(\"\\n\")    #for every after row goes next line"
   ]
  },
  {
   "cell_type": "code",
   "execution_count": 65,
   "metadata": {},
   "outputs": [
    {
     "name": "stdout",
     "output_type": "stream",
     "text": [
      "* * * * * * * * * * \n",
      "\n",
      "*                 * \n",
      "\n",
      "*                 * \n",
      "\n",
      "*                 * \n",
      "\n",
      "* * * * * * * * * * \n",
      "\n",
      "*                 * \n",
      "\n",
      "*                 * \n",
      "\n",
      "*                 * \n",
      "\n",
      "*                 * \n",
      "\n",
      "*                 * \n",
      "\n"
     ]
    }
   ],
   "source": [
    "#Letter A (whenever we want letters pattern wen need to write a 10x10 matrix for reference)\n",
    "for rows in range(1,11):\n",
    "    for stars in range(1,11):\n",
    "        if (rows==1 or rows == 5 or stars==1 or stars==10): #wherever we want stars should write condition to print\n",
    "            print(\"*\",end=\" \")\n",
    "        else:\n",
    "            print(\" \",end=\" \")\n",
    "    print(\"\\n\")"
   ]
  },
  {
   "cell_type": "code",
   "execution_count": 72,
   "metadata": {},
   "outputs": [
    {
     "name": "stdout",
     "output_type": "stream",
     "text": [
      "+ + + + + + + + +   \n",
      "\n",
      "+                 + \n",
      "\n",
      "+                 + \n",
      "\n",
      "+                 + \n",
      "\n",
      "+                 + \n",
      "\n",
      "+ + + + + + + + +   \n",
      "\n",
      "+                 + \n",
      "\n",
      "+                 + \n",
      "\n",
      "+                 + \n",
      "\n",
      "+                 + \n",
      "\n",
      "+ + + + + + + + +   \n",
      "\n"
     ]
    }
   ],
   "source": [
    "for rows in range(1,12):\n",
    "    for stars in range(1,11):\n",
    "        if (rows==1 and stars!=10 or rows==6 and stars!=10 or rows==11 and stars!=10 or stars==1 or (stars==10 and rows!=1 and rows!=6 and rows!=11)):\n",
    "            print(\"+\",end=\" \")\n",
    "    \n",
    "        else:\n",
    "            print(\" \",end=\" \")\n",
    "    print(\"\\n\")"
   ]
  },
  {
   "cell_type": "code",
   "execution_count": 76,
   "metadata": {},
   "outputs": [
    {
     "name": "stdout",
     "output_type": "stream",
     "text": [
      "+ + + + + + + + +   \n",
      "\n",
      "+                 + \n",
      "\n",
      "+                 + \n",
      "\n",
      "+                 + \n",
      "\n",
      "+                 + \n",
      "\n",
      "+                 + \n",
      "\n",
      "+                 + \n",
      "\n",
      "+                 + \n",
      "\n",
      "+                 + \n",
      "\n",
      "+                 + \n",
      "\n",
      "+ + + + + + + + +   \n",
      "\n"
     ]
    }
   ],
   "source": [
    "for rows in range(1,12):\n",
    "    for stars in range(1,11):\n",
    "        if (rows==1 and stars!=10  or rows==11 and stars!=10 or stars==1 or (stars==10 and rows!=1 and rows!=11)):\n",
    "            print(\"+\",end=\" \")\n",
    "    \n",
    "        else:\n",
    "            print(\" \",end=\" \")\n",
    "    print(\"\\n\")"
   ]
  },
  {
   "cell_type": "code",
   "execution_count": 1,
   "metadata": {},
   "outputs": [
    {
     "name": "stdout",
     "output_type": "stream",
     "text": [
      "  + + + + + \n",
      "\n",
      "+           \n",
      "\n",
      "+           \n",
      "\n",
      "+           \n",
      "\n",
      "+           \n",
      "\n",
      "+           \n",
      "\n",
      "+           \n",
      "\n",
      "+           \n",
      "\n",
      "  + + + + + \n",
      "\n"
     ]
    }
   ],
   "source": [
    "for rows in range(1,10):\n",
    "    for stars in range(1,7):\n",
    "        if (rows==1 and stars!=1 or rows==9 and stars!=1 or (stars==1 and rows!=1 and rows!=9)):\n",
    "            print(\"+\",end=\" \")\n",
    "        else:\n",
    "            print(\" \",end=\" \")\n",
    "    print(\"\\n\")"
   ]
  }
 ],
 "metadata": {
  "kernelspec": {
   "display_name": "Python 3",
   "language": "python",
   "name": "python3"
  },
  "language_info": {
   "codemirror_mode": {
    "name": "ipython",
    "version": 3
   },
   "file_extension": ".py",
   "mimetype": "text/x-python",
   "name": "python",
   "nbconvert_exporter": "python",
   "pygments_lexer": "ipython3",
   "version": "3.6.9"
  }
 },
 "nbformat": 4,
 "nbformat_minor": 2
}
