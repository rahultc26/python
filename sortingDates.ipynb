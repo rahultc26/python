{
 "cells": [
  {
   "cell_type": "code",
   "execution_count": 8,
   "metadata": {},
   "outputs": [
    {
     "name": "stdout",
     "output_type": "stream",
     "text": [
      "2018-12-22\n",
      "2019-11-22\n",
      "2019-12-22\n",
      "2019-12-23\n"
     ]
    }
   ],
   "source": [
    "from datetime import *\n",
    "dlist = []\n",
    "\n",
    "d1 = date(2019,12,23)\n",
    "d2 = date(2018,12,22)\n",
    "d3 = date(2019,11,22)\n",
    "d4 = date(2019,12,22)\n",
    "\n",
    "dlist.append(d1)\n",
    "dlist.append(d2)\n",
    "dlist.append(d3)\n",
    "dlist.append(d4)\n",
    "\n",
    "dlist.sort()\n",
    "\n",
    "for d in dlist:\n",
    "    print(d)"
   ]
  },
  {
   "cell_type": "code",
   "execution_count": 10,
   "metadata": {},
   "outputs": [
    {
     "name": "stdout",
     "output_type": "stream",
     "text": [
      "1947-08-15\n",
      "1951-01-26\n",
      "2019-11-22\n",
      "2019-12-01\n"
     ]
    }
   ],
   "source": [
    "from datetime import *\n",
    "dlist = []\n",
    "\n",
    "d1 = date(2019,12,1)\n",
    "d2 = date(1947,8,15)\n",
    "d3 = date(2019,11,22)\n",
    "d4 = date(1951,1,26)\n",
    "\n",
    "dlist.append(d1)\n",
    "dlist.append(d2)\n",
    "dlist.append(d3)\n",
    "dlist.append(d4)\n",
    "\n",
    "dlist.sort()\n",
    "\n",
    "for d in dlist:\n",
    "    print(d)"
   ]
  }
 ],
 "metadata": {
  "kernelspec": {
   "display_name": "Python 3",
   "language": "python",
   "name": "python3"
  },
  "language_info": {
   "codemirror_mode": {
    "name": "ipython",
    "version": 3
   },
   "file_extension": ".py",
   "mimetype": "text/x-python",
   "name": "python",
   "nbconvert_exporter": "python",
   "pygments_lexer": "ipython3",
   "version": "3.7.4"
  }
 },
 "nbformat": 4,
 "nbformat_minor": 2
}
