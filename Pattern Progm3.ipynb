{
 "cells": [
  {
   "cell_type": "code",
   "execution_count": 89,
   "metadata": {},
   "outputs": [
    {
     "name": "stdout",
     "output_type": "stream",
     "text": [
      "     *\n",
      "\n",
      "    ***\n",
      "\n",
      "   *****\n",
      "\n",
      "  *******\n",
      "\n",
      " *********\n",
      "\n"
     ]
    }
   ],
   "source": [
    "for rows in range(1,6):\n",
    "    for spaces in range(rows,6):\n",
    "        print(\" \",end=\"\")\n",
    "    for stars in range(0,2*rows-1): #stars are changing in the format of 1,3,5,7,9 so 2*rows-1\n",
    "        print(\"*\",end=\"\")\n",
    "    print(\"\\n\")"
   ]
  },
  {
   "cell_type": "code",
   "execution_count": 104,
   "metadata": {},
   "outputs": [
    {
     "name": "stdout",
     "output_type": "stream",
     "text": [
      " *********\n",
      "\n",
      "  *******\n",
      "\n",
      "   *****\n",
      "\n",
      "    ***\n",
      "\n",
      "     *\n",
      "\n"
     ]
    }
   ],
   "source": [
    "for rows in range(1,6):\n",
    "    for spaces in range(0,rows):\n",
    "        print(\" \",end=\"\")\n",
    "        \n",
    "    for stars in range(10,2*rows-1,-1):\n",
    "        print(\"*\",end=\"\")\n",
    "    print(\"\\n\")"
   ]
  },
  {
   "cell_type": "code",
   "execution_count": 3,
   "metadata": {},
   "outputs": [
    {
     "name": "stdout",
     "output_type": "stream",
     "text": [
      "     1\n",
      "\n",
      "    123\n",
      "\n",
      "   12345\n",
      "\n",
      "  1234567\n",
      "\n",
      " 123456789\n",
      "\n"
     ]
    }
   ],
   "source": [
    "for rows in range(1,6):\n",
    "    for space in range(rows,6):\n",
    "        print(\" \",end=\"\")\n",
    "        \n",
    "    for nums in range(1,2*rows):\n",
    "        print(nums,end=\"\")\n",
    "    print(\"\\n\")"
   ]
  },
  {
   "cell_type": "code",
   "execution_count": 6,
   "metadata": {},
   "outputs": [
    {
     "name": "stdout",
     "output_type": "stream",
     "text": [
      "     1\n",
      "\n",
      "    222\n",
      "\n",
      "   33333\n",
      "\n",
      "  4444444\n",
      "\n",
      " 555555555\n",
      "\n"
     ]
    }
   ],
   "source": [
    "for rows in range(1,6):\n",
    "    for space in range(rows,6):\n",
    "        print(\" \",end=\"\")\n",
    "    \n",
    "    for nums in range(1,2*rows):\n",
    "        print(rows,end=\"\")\n",
    "        \n",
    "    print(\"\\n\")"
   ]
  },
  {
   "cell_type": "code",
   "execution_count": 60,
   "metadata": {},
   "outputs": [
    {
     "name": "stdout",
     "output_type": "stream",
     "text": [
      " 987654321\n",
      "\n",
      "  9876543\n",
      "\n",
      "   98765\n",
      "\n",
      "    987\n",
      "\n",
      "     9\n",
      "\n"
     ]
    }
   ],
   "source": [
    "for rows in range(1,6):\n",
    "    for space in range(0,rows):\n",
    "        print(\" \",end=\"\")\n",
    "        \n",
    "    for i in range(9,2*rows-2,-1): #we need to print 9 to 1 so take 9 to 0 (ie 2*1-2=0 = 987654321)\n",
    "        print(i,end=\"\")\n",
    "    print(\"\\n\")"
   ]
  },
  {
   "cell_type": "code",
   "execution_count": 69,
   "metadata": {},
   "outputs": [
    {
     "name": "stdout",
     "output_type": "stream",
     "text": [
      " 111111111\n",
      "\n",
      "  2222222\n",
      "\n",
      "   33333\n",
      "\n",
      "    444\n",
      "\n",
      "     5\n",
      "\n"
     ]
    }
   ],
   "source": [
    "for rows in range(1,6):\n",
    "    for space in range(0,rows):\n",
    "        print(\" \",end=\"\")\n",
    "        \n",
    "    for nums in range(9,2*rows-2,-1):\n",
    "        print(rows,end=\"\")\n",
    "    print(\"\\n\")"
   ]
  },
  {
   "cell_type": "code",
   "execution_count": 107,
   "metadata": {},
   "outputs": [
    {
     "name": "stdout",
     "output_type": "stream",
     "text": [
      "          * \n",
      "\n",
      "        * * * \n",
      "\n",
      "      * * * * * \n",
      "\n",
      "    * * * * * * * \n",
      "\n",
      "  * * * * * * * * * \n",
      "\n",
      "  * * * * * * * * * \n",
      "\n",
      "    * * * * * * * \n",
      "\n",
      "      * * * * * \n",
      "\n",
      "        * * * \n",
      "\n",
      "          * \n",
      "\n"
     ]
    }
   ],
   "source": [
    "for rows in range(1,6):\n",
    "    for space1 in range(rows,6):\n",
    "        print(\" \",end=\" \")\n",
    "        \n",
    "    for stars1 in range(1,2*rows):\n",
    "        print(\"*\",end=\" \")\n",
    "        \n",
    "    print(\"\\n\")                   #half of the rombus is completed\n",
    "    \n",
    "for rows1 in range(1,6):    #another half of the rombus code is started from this line\n",
    "        \n",
    "    for space2 in range(0,rows1):\n",
    "        print(\" \",end=\" \")\n",
    "  \n",
    "    for stars2 in range(10,2*rows1-1,-1):\n",
    "        print(\"*\",end=\" \")\n",
    "        \n",
    "    print(\"\\n\")"
   ]
  },
  {
   "cell_type": "code",
   "execution_count": 112,
   "metadata": {},
   "outputs": [
    {
     "name": "stdout",
     "output_type": "stream",
     "text": [
      "          1 \n",
      "\n",
      "        1 2 3 \n",
      "\n",
      "      1 2 3 4 5 \n",
      "\n",
      "    1 2 3 4 5 6 7 \n",
      "\n",
      "  1 2 3 4 5 6 7 8 9 \n",
      "\n",
      "  9 8 7 6 5 4 3 2 1 \n",
      "\n",
      "    9 8 7 6 5 4 3 \n",
      "\n",
      "      9 8 7 6 5 \n",
      "\n",
      "        9 8 7 \n",
      "\n",
      "          9 \n",
      "\n"
     ]
    }
   ],
   "source": [
    "for rows in range(1,6):\n",
    "    for space1 in range(rows,6):\n",
    "        print(\" \",end=\" \")\n",
    "        \n",
    "    for stars1 in range(1,2*rows):\n",
    "        print(stars1,end=\" \")\n",
    "        \n",
    "    print(\"\\n\")                   #half of the rombus is completed\n",
    "    \n",
    "for rows1 in range(1,6):    #another half of the rombus code is started from this line\n",
    "        \n",
    "    for space2 in range(0,rows1):\n",
    "        print(\" \",end=\" \")\n",
    "  \n",
    "    for stars2 in range(9,2*rows1-2,-1):\n",
    "        print(stars2,end=\" \")\n",
    "        \n",
    "    print(\"\\n\")"
   ]
  },
  {
   "cell_type": "code",
   "execution_count": 1,
   "metadata": {},
   "outputs": [
    {
     "name": "stdout",
     "output_type": "stream",
     "text": [
      "          1 \n",
      "\n",
      "        2 2 2 \n",
      "\n",
      "      3 3 3 3 3 \n",
      "\n",
      "    4 4 4 4 4 4 4 \n",
      "\n",
      "  5 5 5 5 5 5 5 5 5 \n",
      "\n",
      "  1 1 1 1 1 1 1 1 1 \n",
      "\n",
      "    2 2 2 2 2 2 2 \n",
      "\n",
      "      3 3 3 3 3 \n",
      "\n",
      "        4 4 4 \n",
      "\n",
      "          5 \n",
      "\n"
     ]
    }
   ],
   "source": [
    "for rows in range(1,6):\n",
    "    for space1 in range(rows,6):\n",
    "        print(\" \",end=\" \")\n",
    "        \n",
    "    for stars1 in range(1,2*rows):\n",
    "        print(rows,end=\" \")\n",
    "        \n",
    "    print(\"\\n\")                   #half of the rombus is completed\n",
    "    \n",
    "for rows1 in range(1,6):    #another half of the rombus code is started from this line\n",
    "        \n",
    "    for space2 in range(0,rows1):\n",
    "        print(\" \",end=\" \")\n",
    "  \n",
    "    for stars2 in range(9,2*rows1-2,-1):\n",
    "        print(rows1,end=\" \")\n",
    "        \n",
    "    print(\"\\n\")"
   ]
  }
 ],
 "metadata": {
  "kernelspec": {
   "display_name": "Python 3",
   "language": "python",
   "name": "python3"
  },
  "language_info": {
   "codemirror_mode": {
    "name": "ipython",
    "version": 3
   },
   "file_extension": ".py",
   "mimetype": "text/x-python",
   "name": "python",
   "nbconvert_exporter": "python",
   "pygments_lexer": "ipython3",
   "version": "3.6.9"
  }
 },
 "nbformat": 4,
 "nbformat_minor": 2
}
